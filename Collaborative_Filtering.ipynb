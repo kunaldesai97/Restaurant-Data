{
 "cells": [
  {
   "cell_type": "markdown",
   "metadata": {},
   "source": [
    "# Getting Started\n",
    "\n",
    "In this project, We will analyze datasets containing data on restaurants, consumers and user-item-rating. The goal of this project is to implement Collaborative Filtering i.e., to find similarities between various consumers and recommend restaurants to consumers.\n",
    "\n",
    "The datasets for this project can be found on [Kaggle](https://www.kaggle.com/uciml/restaurant-data-with-consumer-ratings). \n",
    "\n",
    "The following code loads the datasets, along with a few of the necessary Python libraries required for this project."
   ]
  },
  {
   "cell_type": "code",
   "execution_count": 16,
   "metadata": {},
   "outputs": [
    {
     "name": "stdout",
     "output_type": "stream",
     "text": [
      "Loading restaurant datasets\n",
      "Payment dataset has 1314 samples with 2 features each.\n",
      "Cuisine dataset has 916 samples with 2 features each.\n",
      "Hours dataset has 2339 samples with 3 features each.\n",
      "Parking dataset has 702 samples with 2 features each.\n",
      "Geo-places dataset has 130 samples with 21 features each.\n",
      "\n",
      "\n",
      "Loading consumer datasets\n",
      "Cuisine dataset has 330 samples with 2 features each.\n",
      "Payment dataset has 177 samples with 2 features each.\n",
      "Profile dataset has 138 samples with 19 features each.\n",
      "\n",
      "\n",
      "Loading User-Item-Rating dataset\n",
      "Rating dataset has 1161 samples with 5 features each.\n"
     ]
    }
   ],
   "source": [
    "# Import libraries necessary for this project\n",
    "import pandas as pd\n",
    "import numpy as np\n",
    "from IPython.display import display # Allows the use of display() for DataFrames\n",
    "\n",
    "# Pretty display for notebooks\n",
    "%matplotlib inline\n",
    "\n",
    "print('Loading restaurant datasets')\n",
    "\n",
    "# Load Restaurant Payment dataset\n",
    "try:\n",
    "    rest_pay = pd.read_csv('chefmozaccepts.csv')\n",
    "    print('Payment dataset has %d samples with %d features each.' % (rest_pay.shape))\n",
    "except:\n",
    "    print('Payment dataset could not be loaded. Is the dataset missing?')\n",
    "    \n",
    "# Load the Restaurant Cuisine dataset\n",
    "try:\n",
    "    rest_cuisine = pd.read_csv('chefmozcuisine.csv')\n",
    "    print('Cuisine dataset has %d samples with %d features each.' % (rest_cuisine.shape))\n",
    "except:\n",
    "    print('Cuisine dataset could not be loaded. Is the dataset missing?')\n",
    "    \n",
    "# Load the Restaurant Hours dataset\n",
    "try:\n",
    "    rest_hours = pd.read_csv('chefmozhours4.csv')\n",
    "    print('Hours dataset has %d samples with %d features each.' % (rest_hours.shape))\n",
    "except:\n",
    "    print('Hours dataset could not be loaded. Is the dataset missing?')\n",
    "    \n",
    "# Load the Restaurant Parking dataset\n",
    "try:\n",
    "    rest_parking = pd.read_csv('chefmozparking.csv')\n",
    "    print('Parking dataset has %d samples with %d features each.' % (rest_parking.shape))\n",
    "except:\n",
    "    print('Parking dataset could not be loaded. Is the dataset missing?')\n",
    "\n",
    "#Load Restaurant Geo-places dataset\n",
    "try:\n",
    "    rest_geo = pd.read_csv('geoplaces2.csv')\n",
    "    print('Geo-places dataset has %d samples with %d features each.' % (rest_geo.shape))\n",
    "except:\n",
    "    print('Geo-places dataset could not be loaded. Is the dataset missing?')\n",
    "\n",
    "print('\\n')\n",
    "\n",
    "print('Loading consumer datasets')\n",
    "\n",
    "# Load the Consumer Cuisine dataset\n",
    "try:\n",
    "    cons_cuisine = pd.read_csv('usercuisine.csv')\n",
    "    print('Cuisine dataset has %d samples with %d features each.' % (cons_cuisine.shape))\n",
    "except:\n",
    "    print('Cuisine dataset could not be loaded. Is the dataset missing?')\n",
    "\n",
    "#Load Consumer Payment dataset\n",
    "try:\n",
    "    cons_pay = pd.read_csv('userpayment.csv')\n",
    "    print('Payment dataset has %d samples with %d features each.' % (cons_pay.shape))\n",
    "except:\n",
    "    print('Payment dataset could not be loaded. Is the dataset missing?')\n",
    "\n",
    "#Load Consumer Profile dataset\n",
    "try:\n",
    "    cons_profile = pd.read_csv('userprofile.csv')\n",
    "    print('Profile dataset has %d samples with %d features each.' % (cons_profile.shape))\n",
    "except:\n",
    "    print('Profile dataset could not be loaded. Is the dataset missing?')\n",
    "    \n",
    "print('\\n')\n",
    "\n",
    "print('Loading User-Item-Rating dataset')\n",
    "\n",
    "#Load Rating dataset\n",
    "try:\n",
    "    rating = pd.read_csv('rating_final.csv')\n",
    "    print('Rating dataset has %d samples with %d features each.' % (rating.shape))\n",
    "except:\n",
    "    print('Rating dataset could not be loaded. Is the dataset missing?')\n",
    "    \n"
   ]
  },
  {
   "cell_type": "markdown",
   "metadata": {
    "collapsed": true
   },
   "source": [
    "# Data Exploration\n",
    "\n",
    "In this section, we will begin exploring the data through visualizations and code to understand how features of each dataset are related to one another."
   ]
  },
  {
   "cell_type": "code",
   "execution_count": null,
   "metadata": {
    "collapsed": true
   },
   "outputs": [],
   "source": []
  }
 ],
 "metadata": {
  "kernelspec": {
   "display_name": "Python 3",
   "language": "python",
   "name": "python3"
  },
  "language_info": {
   "codemirror_mode": {
    "name": "ipython",
    "version": 3
   },
   "file_extension": ".py",
   "mimetype": "text/x-python",
   "name": "python",
   "nbconvert_exporter": "python",
   "pygments_lexer": "ipython3",
   "version": "3.6.3"
  }
 },
 "nbformat": 4,
 "nbformat_minor": 2
}
