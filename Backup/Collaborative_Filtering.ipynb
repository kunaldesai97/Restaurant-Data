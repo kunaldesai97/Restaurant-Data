{
 "cells": [
  {
   "cell_type": "markdown",
   "metadata": {},
   "source": [
    "# Getting Started\n",
    "\n",
    "In this project, We will analyze datasets containing data on restaurants, consumers and user-item-rating. The goal of this project is to implement Collaborative Filtering i.e., to find similarities between various consumers and recommend restaurants to consumers.\n",
    "\n",
    "The datasets for this project can be found on [Kaggle](https://www.kaggle.com/uciml/restaurant-data-with-consumer-ratings). \n",
    "\n",
    "The following code loads the datasets, along with a few of the necessary Python libraries required for this project."
   ]
  },
  {
   "cell_type": "code",
   "execution_count": 120,
   "metadata": {
    "collapsed": true
   },
   "outputs": [],
   "source": [
    "# Import libraries necessary for this project\n",
    "import pandas as pd\n",
    "import numpy as np\n",
    "import matplotlib.pyplot as plt\n",
    "\n",
    "# Pretty display for notebooks\n",
    "%matplotlib inline\n"
   ]
  },
  {
   "cell_type": "code",
   "execution_count": 121,
   "metadata": {},
   "outputs": [
    {
     "name": "stdout",
     "output_type": "stream",
     "text": [
      "Loading restaurant datasets\n",
      "Payment dataset has 1314 samples with 2 features each.\n",
      "Cuisine dataset has 916 samples with 2 features each.\n",
      "Hours dataset has 2339 samples with 3 features each.\n",
      "Parking dataset has 702 samples with 2 features each.\n",
      "Geo-places dataset has 130 samples with 21 features each.\n",
      "\n",
      "\n",
      "Loading consumer datasets\n",
      "Cuisine dataset has 330 samples with 2 features each.\n",
      "Payment dataset has 177 samples with 2 features each.\n",
      "Profile dataset has 138 samples with 19 features each.\n",
      "\n",
      "\n",
      "Loading User-Item-Rating dataset\n",
      "Rating dataset has 1161 samples with 5 features each.\n"
     ]
    }
   ],
   "source": [
    "print('Loading restaurant datasets')\n",
    "\n",
    "# Load Restaurant Payment dataset\n",
    "try:\n",
    "    rest_pay = pd.read_csv('chefmozaccepts.csv')\n",
    "    print('Payment dataset has %d samples with %d features each.' % (rest_pay.shape))\n",
    "except:\n",
    "    print('Payment dataset could not be loaded. Is the dataset missing?')\n",
    "    \n",
    "# Load the Restaurant Cuisine dataset\n",
    "try:\n",
    "    rest_cuisine = pd.read_csv('chefmozcuisine.csv')\n",
    "    print('Cuisine dataset has %d samples with %d features each.' % (rest_cuisine.shape))\n",
    "except:\n",
    "    print('Cuisine dataset could not be loaded. Is the dataset missing?')\n",
    "    \n",
    "# Load the Restaurant Hours dataset\n",
    "try:\n",
    "    rest_hours = pd.read_csv('chefmozhours4.csv')\n",
    "    print('Hours dataset has %d samples with %d features each.' % (rest_hours.shape))\n",
    "except:\n",
    "    print('Hours dataset could not be loaded. Is the dataset missing?')\n",
    "    \n",
    "# Load the Restaurant Parking dataset\n",
    "try:\n",
    "    rest_parking = pd.read_csv('chefmozparking.csv')\n",
    "    print('Parking dataset has %d samples with %d features each.' % (rest_parking.shape))\n",
    "except:\n",
    "    print('Parking dataset could not be loaded. Is the dataset missing?')\n",
    "\n",
    "#Load Restaurant Geo-places dataset\n",
    "try:\n",
    "    rest_geo = pd.read_csv('geoplaces2.csv')\n",
    "    print('Geo-places dataset has %d samples with %d features each.' % (rest_geo.shape))\n",
    "except:\n",
    "    print('Geo-places dataset could not be loaded. Is the dataset missing?')\n",
    "\n",
    "print('\\n')\n",
    "\n",
    "print('Loading consumer datasets')\n",
    "\n",
    "# Load the Consumer Cuisine dataset\n",
    "try:\n",
    "    cons_cuisine = pd.read_csv('usercuisine.csv')\n",
    "    print('Cuisine dataset has %d samples with %d features each.' % (cons_cuisine.shape))\n",
    "except:\n",
    "    print('Cuisine dataset could not be loaded. Is the dataset missing?')\n",
    "\n",
    "#Load Consumer Payment dataset\n",
    "try:\n",
    "    cons_pay = pd.read_csv('userpayment.csv')\n",
    "    print('Payment dataset has %d samples with %d features each.' % (cons_pay.shape))\n",
    "except:\n",
    "    print('Payment dataset could not be loaded. Is the dataset missing?')\n",
    "\n",
    "#Load Consumer Profile dataset\n",
    "try:\n",
    "    cons_profile = pd.read_csv('userprofile.csv')\n",
    "    print('Profile dataset has %d samples with %d features each.' % (cons_profile.shape))\n",
    "except:\n",
    "    print('Profile dataset could not be loaded. Is the dataset missing?')\n",
    "    \n",
    "print('\\n')\n",
    "\n",
    "print('Loading User-Item-Rating dataset')\n",
    "\n",
    "#Load Rating dataset\n",
    "try:\n",
    "    rating = pd.read_csv('rating_final.csv')\n",
    "    print('Rating dataset has %d samples with %d features each.' % (rating.shape))\n",
    "except:\n",
    "    print('Rating dataset could not be loaded. Is the dataset missing?')\n",
    "    \n"
   ]
  },
  {
   "cell_type": "markdown",
   "metadata": {
    "collapsed": true
   },
   "source": [
    "# Data Exploration\n",
    "\n",
    "In this section, we will begin exploring the data through visualizations and code to understand how features of each dataset are related to one another.\n",
    "\n",
    "Resturant datasets:<br>\n",
    "1. rest_pay: 'placeID', 'Rpayment'<br>\n",
    "2. rest_cuisine: 'placeID', 'Rcuisine' <br>\n",
    "3. rest_hours: 'placeID', 'hours', 'days' <br>\n",
    "4. rest_parking: 'placeID', 'parking_lot' <br>\n",
    "5. rest_geo: 'placeID', 'latitude', 'longitude', 'the_geom_meter', 'name', 'address','city', 'state', 'country', 'fax', 'zip', 'alcohol', 'smoking_area','dress_code', 'accessibility', 'price', 'url', 'Rambience', 'franchise','area', 'other_services'<br>\n",
    "\n",
    "User datasets:<br>\n",
    "1. cons_pay: 'userID', 'Upayment'<br>\n",
    "2. cons_cuisine: 'userID', 'Rcuisine'<br>\n",
    "3. cons_profile: 'userID', 'latitude', 'longitude', 'smoker', 'drink_level', 'dress_preference', 'ambience', 'transport', 'marital_status', 'hijos', 'birth_year', 'interest', 'personality', 'religion', 'activity', 'color', 'weight', 'budget', 'height' <br>\n",
    "\n",
    "Rating dataset:\n",
    "1. rating: 'userID', 'placeID', 'rating', 'food_rating', 'service_rating'\n"
   ]
  },
  {
   "cell_type": "code",
   "execution_count": 122,
   "metadata": {},
   "outputs": [
    {
     "name": "stdout",
     "output_type": "stream",
     "text": [
      "138\n"
     ]
    }
   ],
   "source": [
    "#No.of users who are given ratings to the restaurants\n",
    "list_users = rating.userID.unique()\n",
    "print(len(list_users))"
   ]
  },
  {
   "cell_type": "code",
   "execution_count": 123,
   "metadata": {
    "collapsed": true
   },
   "outputs": [],
   "source": [
    "#Delete users from cons_profile who have not given ratings\n",
    "for index, row in cons_profile.iterrows():\n",
    "    if row['userID'] not in list_users:\n",
    "        del row"
   ]
  },
  {
   "cell_type": "code",
   "execution_count": 124,
   "metadata": {},
   "outputs": [
    {
     "data": {
      "text/plain": [
       "array([[<matplotlib.axes._subplots.AxesSubplot object at 0x7f3a1e4b08d0>,\n",
       "        <matplotlib.axes._subplots.AxesSubplot object at 0x7f3a056d5ac8>,\n",
       "        <matplotlib.axes._subplots.AxesSubplot object at 0x7f3a05700ba8>,\n",
       "        <matplotlib.axes._subplots.AxesSubplot object at 0x7f3a056b9828>,\n",
       "        <matplotlib.axes._subplots.AxesSubplot object at 0x7f3a056e75f8>],\n",
       "       [<matplotlib.axes._subplots.AxesSubplot object at 0x7f3a056e70f0>,\n",
       "        <matplotlib.axes._subplots.AxesSubplot object at 0x7f3a0564fe48>,\n",
       "        <matplotlib.axes._subplots.AxesSubplot object at 0x7f3a0560eb70>,\n",
       "        <matplotlib.axes._subplots.AxesSubplot object at 0x7f3a055c8c50>,\n",
       "        <matplotlib.axes._subplots.AxesSubplot object at 0x7f3a0557c5c0>],\n",
       "       [<matplotlib.axes._subplots.AxesSubplot object at 0x7f3a05532860>,\n",
       "        <matplotlib.axes._subplots.AxesSubplot object at 0x7f3a054eb8d0>,\n",
       "        <matplotlib.axes._subplots.AxesSubplot object at 0x7f3a054a47f0>,\n",
       "        <matplotlib.axes._subplots.AxesSubplot object at 0x7f3a054fd128>,\n",
       "        <matplotlib.axes._subplots.AxesSubplot object at 0x7f3a05490400>],\n",
       "       [<matplotlib.axes._subplots.AxesSubplot object at 0x7f3a0544c400>,\n",
       "        <matplotlib.axes._subplots.AxesSubplot object at 0x7f3a05402470>,\n",
       "        <matplotlib.axes._subplots.AxesSubplot object at 0x7f3a053bb550>,\n",
       "        <matplotlib.axes._subplots.AxesSubplot object at 0x7f3a05365b00>,\n",
       "        <matplotlib.axes._subplots.AxesSubplot object at 0x7f3a0531cda0>],\n",
       "       [<matplotlib.axes._subplots.AxesSubplot object at 0x7f3a052d5e10>,\n",
       "        <matplotlib.axes._subplots.AxesSubplot object at 0x7f3a0530fda0>,\n",
       "        <matplotlib.axes._subplots.AxesSubplot object at 0x7f3a052e7be0>,\n",
       "        <matplotlib.axes._subplots.AxesSubplot object at 0x7f3a0527b940>,\n",
       "        <matplotlib.axes._subplots.AxesSubplot object at 0x7f3a05235940>]], dtype=object)"
      ]
     },
     "execution_count": 124,
     "metadata": {},
     "output_type": "execute_result"
    },
    {
     "data": {
      "image/png": "[encoded data removed]",
      "text/plain": [
       "<matplotlib.figure.Figure at 0x7f3a1e4a8e10>"
      ]
     },
     "metadata": {},
     "output_type": "display_data"
    }
   ],
   "source": [
    "# #Scatter matrix for continuous values in the user dataset\n",
    "pd.plotting.scatter_matrix(cons_profile, alpha = 0.3, figsize = (20,20), diagonal = 'kde')\n",
    "# #From the graph below, we know that there's a correlation between weight and height and therefore we can remove one of them."
   ]
  },
  {
   "cell_type": "code",
   "execution_count": 125,
   "metadata": {
    "collapsed": true
   },
   "outputs": [],
   "source": [
    "# #Remove Height since it shows high correlation with Weight\n",
    "cons_profile = cons_profile.drop('height', axis = 1)"
   ]
  },
  {
   "cell_type": "markdown",
   "metadata": {},
   "source": [
    "## Checking and replacing missing values in the datasets"
   ]
  },
  {
   "cell_type": "markdown",
   "metadata": {},
   "source": [
    "### Restaurant Dataset"
   ]
  },
  {
   "cell_type": "code",
   "execution_count": 126,
   "metadata": {},
   "outputs": [
    {
     "name": "stdout",
     "output_type": "stream",
     "text": [
      "Customer:\n",
      " userID              False\n",
      "latitude            False\n",
      "longitude           False\n",
      "smoker               True\n",
      "drink_level         False\n",
      "dress_preference     True\n",
      "ambience             True\n",
      "transport            True\n",
      "marital_status       True\n",
      "hijos                True\n",
      "birth_year          False\n",
      "interest            False\n",
      "personality         False\n",
      "religion            False\n",
      "activity             True\n",
      "color               False\n",
      "weight              False\n",
      "budget               True\n",
      "dtype: bool\n"
     ]
    }
   ],
   "source": [
    "#The code below gives True if any of the attributes contain missing values\n",
    "# print('Retaurant:\\n',rest_final.isin(['?']).any(), end = '\\n\\n')\n",
    "print('Customer:\\n',cons_profile.isin(['?']).any())"
   ]
  },
  {
   "cell_type": "markdown",
   "metadata": {},
   "source": [
    "### User Dataset"
   ]
  },
  {
   "cell_type": "code",
   "execution_count": 127,
   "metadata": {
    "collapsed": true
   },
   "outputs": [],
   "source": [
    "#Store indices of features having 'Nan' or '?' values\n",
    "indices = set() #to store unique values\n",
    "for index,row in cons_profile.iterrows():\n",
    "    for i in range(len(row)):\n",
    "        if row[i] is np.nan or row [i] is '?':\n",
    "            indices.add(i)"
   ]
  },
  {
   "cell_type": "code",
   "execution_count": 128,
   "metadata": {},
   "outputs": [
    {
     "name": "stdout",
     "output_type": "stream",
     "text": [
      "['smoker', 'dress_preference', 'ambience', 'transport', 'marital_status', 'hijos', 'activity', 'budget']\n"
     ]
    }
   ],
   "source": [
    "#Features having 'Nan' or '?' values\n",
    "missing = list(cons_profile.columns[list(indices)])\n",
    "print(missing)"
   ]
  },
  {
   "cell_type": "code",
   "execution_count": 129,
   "metadata": {},
   "outputs": [
    {
     "name": "stderr",
     "output_type": "stream",
     "text": [
      "/home/kunal/anaconda3/lib/python3.6/site-packages/ipykernel_launcher.py:13: SettingWithCopyWarning: \n",
      "A value is trying to be set on a copy of a slice from a DataFrame\n",
      "\n",
      "See the caveats in the documentation: http://pandas.pydata.org/pandas-docs/stable/indexing.html#indexing-view-versus-copy\n",
      "  del sys.path[0]\n"
     ]
    }
   ],
   "source": [
    "#Only the features with categorical data have missing values\n",
    "#Replace 'Nan' or '?' with a random value from the feature\n",
    "import random \n",
    "for attr in missing:\n",
    "    uni = list(cons_profile[attr].unique()) #List of all unique values in the feature\n",
    "    if '?' in uni:\n",
    "        uni.remove('?') #remove '?' if present in the list\n",
    "    if np.nan in uni:\n",
    "        uni.remove(np.nan) #remove 'Nan' if present in the list\n",
    "    i=0\n",
    "    for value in cons_profile[attr]: \n",
    "        if value is np.nan or value is '?':\n",
    "            cons_profile[attr][i] = cons_profile[attr][i].replace(value,random.choice(uni)) #replace it with a random item from the list\n",
    "        i+=1"
   ]
  },
  {
   "cell_type": "code",
   "execution_count": 130,
   "metadata": {},
   "outputs": [
    {
     "data": {
      "text/plain": [
       "138"
      ]
     },
     "execution_count": 130,
     "metadata": {},
     "output_type": "execute_result"
    }
   ],
   "source": [
    "len(cons_profile)"
   ]
  },
  {
   "cell_type": "markdown",
   "metadata": {},
   "source": [
    "## Encoding String/Object type data into Integer"
   ]
  },
  {
   "cell_type": "code",
   "execution_count": 131,
   "metadata": {
    "collapsed": true
   },
   "outputs": [],
   "source": [
    "data = cons_profile.copy()\n",
    "data = data.drop('userID', axis = 1)"
   ]
  },
  {
   "cell_type": "code",
   "execution_count": 132,
   "metadata": {},
   "outputs": [
    {
     "data": {
      "text/plain": [
       "138"
      ]
     },
     "execution_count": 132,
     "metadata": {},
     "output_type": "execute_result"
    }
   ],
   "source": [
    "len(data)"
   ]
  },
  {
   "cell_type": "code",
   "execution_count": 133,
   "metadata": {
    "collapsed": true
   },
   "outputs": [],
   "source": [
    "from sklearn.preprocessing import LabelEncoder\n",
    "le = LabelEncoder()\n",
    "data['smoker'] = le.fit_transform(data['smoker'])\n",
    "data['drink_level'] = le.fit_transform(data['drink_level'])\n",
    "data['dress_preference'] = le.fit_transform(data['dress_preference'])\n",
    "data['ambience'] = le.fit_transform(data['ambience'])\n",
    "data['transport'] = le.fit_transform(data['transport'])\n",
    "data['marital_status'] = le.fit_transform(data['marital_status'])\n",
    "data['hijos'] = le.fit_transform(data['hijos'])\n",
    "data['interest'] = le.fit_transform(data['interest'])\n",
    "data['personality'] = le.fit_transform(data['personality'])\n",
    "data['religion'] = le.fit_transform(data['religion'])\n",
    "data['activity'] = le.fit_transform(data['activity'])\n",
    "data['color'] = le.fit_transform(data['color'])\n",
    "data['budget'] = le.fit_transform(data['budget'])\n",
    "data['longitude'] = le.fit_transform(data['longitude'])\n",
    "data['latitude'] = le.fit_transform(data['latitude'])"
   ]
  },
  {
   "cell_type": "code",
   "execution_count": 134,
   "metadata": {},
   "outputs": [
    {
     "name": "stdout",
     "output_type": "stream",
     "text": [
      "118\n",
      "20\n"
     ]
    }
   ],
   "source": [
    "from sklearn.utils import shuffle\n",
    "data = shuffle(data)\n",
    "# test_size = int(0.1*len(data))\n",
    "test_size = np.random.rand(len(data)) < 0.1\n",
    "cons_train = data[~test_size]\n",
    "cons_test = data[test_size]\n",
    "print(len(cons_train))\n",
    "print(len(cons_test))"
   ]
  },
  {
   "cell_type": "code",
   "execution_count": 135,
   "metadata": {},
   "outputs": [
    {
     "name": "stdout",
     "output_type": "stream",
     "text": [
      "Index(['latitude', 'longitude', 'smoker', 'drink_level', 'dress_preference',\n",
      "       'ambience', 'transport', 'marital_status', 'hijos', 'birth_year',\n",
      "       'interest', 'personality', 'religion', 'activity', 'color', 'weight',\n",
      "       'budget'],\n",
      "      dtype='object')\n"
     ]
    }
   ],
   "source": [
    "print(cons_train.columns)"
   ]
  },
  {
   "cell_type": "code",
   "execution_count": 137,
   "metadata": {},
   "outputs": [
    {
     "data": {
      "text/plain": [
       "20"
      ]
     },
     "execution_count": 137,
     "metadata": {},
     "output_type": "execute_result"
    }
   ],
   "source": [
    "len(cons_test)"
   ]
  },
  {
   "cell_type": "code",
   "execution_count": 138,
   "metadata": {},
   "outputs": [
    {
     "data": {
      "text/plain": [
       "118"
      ]
     },
     "execution_count": 138,
     "metadata": {},
     "output_type": "execute_result"
    }
   ],
   "source": [
    "len(cons_train)"
   ]
  },
  {
   "cell_type": "code",
   "execution_count": 139,
   "metadata": {},
   "outputs": [
    {
     "name": "stdout",
     "output_type": "stream",
     "text": [
      "Int64Index([ 31, 114,  33, 134,  98,  47,  32, 137,   7,  40,\n",
      "            ...\n",
      "             79, 135,  36, 129,  86, 130,   3,  93,   2,  74],\n",
      "           dtype='int64', length=118)\n"
     ]
    }
   ],
   "source": [
    "print(cons_train.index)"
   ]
  },
  {
   "cell_type": "code",
   "execution_count": 148,
   "metadata": {
    "collapsed": true
   },
   "outputs": [],
   "source": [
    "train_users = []\n",
    "for index,row in cons_train.iterrows():\n",
    "    train_users.append(index)\n",
    "test_users = []\n",
    "for index,row in cons_test.iterrows():\n",
    "    test_users.append(index)\n",
    "\n",
    "sample_user_index = random.choice(test_users)"
   ]
  },
  {
   "cell_type": "code",
   "execution_count": 142,
   "metadata": {},
   "outputs": [],
   "source": [
    "for index,row in cons_test.iterrows():\n",
    "    if index == sample_user_index:\n",
    "        test = pd.DataFrame(row.values.reshape(1,17))"
   ]
  },
  {
   "cell_type": "code",
   "execution_count": 143,
   "metadata": {},
   "outputs": [
    {
     "data": {
      "text/html": [
       "<div>\n",
       "<style>\n",
       "    .dataframe thead tr:only-child th {\n",
       "        text-align: right;\n",
       "    }\n",
       "\n",
       "    .dataframe thead th {\n",
       "        text-align: left;\n",
       "    }\n",
       "\n",
       "    .dataframe tbody tr th {\n",
       "        vertical-align: top;\n",
       "    }\n",
       "</style>\n",
       "<table border=\"1\" class=\"dataframe\">\n",
       "  <thead>\n",
       "    <tr style=\"text-align: right;\">\n",
       "      <th></th>\n",
       "      <th>0</th>\n",
       "      <th>1</th>\n",
       "      <th>2</th>\n",
       "      <th>3</th>\n",
       "      <th>4</th>\n",
       "      <th>5</th>\n",
       "      <th>6</th>\n",
       "      <th>7</th>\n",
       "      <th>8</th>\n",
       "      <th>9</th>\n",
       "      <th>10</th>\n",
       "      <th>11</th>\n",
       "      <th>12</th>\n",
       "      <th>13</th>\n",
       "      <th>14</th>\n",
       "      <th>15</th>\n",
       "      <th>16</th>\n",
       "    </tr>\n",
       "  </thead>\n",
       "  <tbody>\n",
       "    <tr>\n",
       "      <th>0</th>\n",
       "      <td>68</td>\n",
       "      <td>32</td>\n",
       "      <td>0</td>\n",
       "      <td>0</td>\n",
       "      <td>3</td>\n",
       "      <td>2</td>\n",
       "      <td>2</td>\n",
       "      <td>1</td>\n",
       "      <td>0</td>\n",
       "      <td>1930</td>\n",
       "      <td>1</td>\n",
       "      <td>1</td>\n",
       "      <td>4</td>\n",
       "      <td>3</td>\n",
       "      <td>7</td>\n",
       "      <td>40</td>\n",
       "      <td>2</td>\n",
       "    </tr>\n",
       "  </tbody>\n",
       "</table>\n",
       "</div>"
      ],
      "text/plain": [
       "   0   1   2   3   4   5   6   7   8     9   10  11  12  13  14  15  16\n",
       "0  68  32   0   0   3   2   2   1   0  1930   1   1   4   3   7  40   2"
      ]
     },
     "execution_count": 143,
     "metadata": {},
     "output_type": "execute_result"
    }
   ],
   "source": [
    "test"
   ]
  },
  {
   "cell_type": "code",
   "execution_count": 144,
   "metadata": {
    "collapsed": true
   },
   "outputs": [],
   "source": [
    "res = pd.DataFrame()"
   ]
  },
  {
   "cell_type": "code",
   "execution_count": 145,
   "metadata": {
    "collapsed": true
   },
   "outputs": [],
   "source": [
    "n = len(cons_train)"
   ]
  },
  {
   "cell_type": "code",
   "execution_count": 146,
   "metadata": {
    "collapsed": true
   },
   "outputs": [],
   "source": [
    "from sklearn.neighbors import KDTree\n",
    "tree = KDTree(cons_train)\n",
    "dist, ind = tree.query(test, k=n)\n",
    "val = []\n",
    "for i in ind:\n",
    "    for j in i:\n",
    "        val.append(j)\n",
    "i = 0\n",
    "for index,row in cons_train.iterrows():\n",
    "    if i in val:\n",
    "        res = res.append(row)\n",
    "    i+=1"
   ]
  },
  {
   "cell_type": "code",
   "execution_count": 150,
   "metadata": {},
   "outputs": [
    {
     "name": "stdout",
     "output_type": "stream",
     "text": [
      "[[   7.74596669   24.73863375   26.15339366   58.47221562   58.83026432\n",
      "    59.3295879    60.35726965   60.90976933   62.19324722   62.40993511\n",
      "    62.45798588   62.8251542    63.33245613   63.63175308   63.63175308\n",
      "    63.78087488   63.82005954   64.17943596   64.81512169   64.89221833\n",
      "    65.63535633   65.71149062   66.10597552   67.26068688   67.6461381\n",
      "    67.88961629   68.01470429   68.03675477   68.23488844   68.30080527\n",
      "    68.93475176   69.24593851   69.72804314   70.25667228   70.34912935\n",
      "    70.38465742   70.46985171   70.56911506   70.87312608   71.\n",
      "    71.63099888   71.73562574   71.81225522   71.84705979   72.05553414\n",
      "    72.18032973   72.60853944   73.23933369   73.34848328   73.37574531\n",
      "    73.39618519   73.57988856   73.74957627   74.78636239   76.12489737\n",
      "    77.01947806   77.17512553   78.4346862    78.46655338   78.46655338\n",
      "    78.76547467   79.42921377   80.4673847    80.96912992   80.96912992\n",
      "    82.60145277   82.77680835   82.80700453   83.68392916   84.29116205\n",
      "    85.07643622   85.20563362   85.87782019   86.24963768   86.24963768\n",
      "    86.74099377   86.7986175    88.09086218   89.20201791   90.74139078\n",
      "    91.46584062   92.82241109   94.01595609   94.57272334   95.50916186\n",
      "    98.05610639   98.26494797   99.02524931  101.37060718  104.79503805\n",
      "   104.82843126  109.99545445  110.64357189  110.7203685   111.61541112\n",
      "   112.28980363  112.70758626  112.82287002  112.89375536  113.67497526\n",
      "   113.88590782  113.91663619  114.12712211  114.34596626  114.42027792\n",
      "   115.07388931  115.24322106  115.32996142  115.93963947  116.20671237\n",
      "   116.38298845  116.81609478  116.91877522  118.35962149  124.04031603\n",
      "   124.77179168  127.02755607  128.67789243]]\n"
     ]
    }
   ],
   "source": [
    "print(dist)"
   ]
  },
  {
   "cell_type": "code",
   "execution_count": null,
   "metadata": {
    "collapsed": true
   },
   "outputs": [],
   "source": [
    "for "
   ]
  },
  {
   "cell_type": "code",
   "execution_count": 149,
   "metadata": {},
   "outputs": [
    {
     "data": {
      "text/plain": [
       "numpy.ndarray"
      ]
     },
     "execution_count": 149,
     "metadata": {},
     "output_type": "execute_result"
    }
   ],
   "source": [
    "type(dist)"
   ]
  },
  {
   "cell_type": "code",
   "execution_count": 73,
   "metadata": {
    "collapsed": true
   },
   "outputs": [],
   "source": [
    "indices  = []\n",
    "for index,row in res.iterrows():\n",
    "    indices.append(index)"
   ]
  },
  {
   "cell_type": "code",
   "execution_count": 75,
   "metadata": {
    "collapsed": true
   },
   "outputs": [],
   "source": [
    "ids = []\n",
    "for index,row in cons_profile.iterrows():\n",
    "    if index in indices:\n",
    "        ids.append(row[0])"
   ]
  },
  {
   "cell_type": "code",
   "execution_count": 186,
   "metadata": {
    "collapsed": true
   },
   "outputs": [],
   "source": [
    "def recommendation(ids):\n",
    "    all_rest = pd.DataFrame()\n",
    "    for index,row in rating.iterrows():\n",
    "        if row[0] in ids:\n",
    "            all_rest = all_rest.append(row)\n",
    "    \n",
    "    all_rest['avg'] = (all_rest['rating'] + all_rest['food_rating'] + all_rest['service_rating']) / 3\n",
    "    res = all_rest.groupby(['placeID'])['avg'].max()\n",
    "    res = res.sort_values(ascending = False)\n",
    "    recommend = res.keys()\n",
    "    return recommend"
   ]
  },
  {
   "cell_type": "code",
   "execution_count": 187,
   "metadata": {
    "collapsed": true
   },
   "outputs": [],
   "source": [
    "recommend = recommendation(ids)"
   ]
  },
  {
   "cell_type": "code",
   "execution_count": 195,
   "metadata": {
    "collapsed": true
   },
   "outputs": [],
   "source": [
    "result = pd.DataFrame()\n",
    "for index,row in rest_geo.iterrows():\n",
    "    if row[0] in recommend:\n",
    "        result = result.append(row)"
   ]
  },
  {
   "cell_type": "code",
   "execution_count": 197,
   "metadata": {
    "collapsed": true
   },
   "outputs": [],
   "source": [
    "result = result[['placeID','name', 'address','city', 'state', 'country','latitude', 'longitude', 'the_geom_meter', 'fax', 'zip', 'alcohol', 'smoking_area','dress_code', 'accessibility', 'price', 'url', 'Rambience', 'franchise','area', 'other_services']]"
   ]
  },
  {
   "cell_type": "code",
   "execution_count": 198,
   "metadata": {},
   "outputs": [
    {
     "data": {
      "text/html": [
       "<div>\n",
       "<style>\n",
       "    .dataframe thead tr:only-child th {\n",
       "        text-align: right;\n",
       "    }\n",
       "\n",
       "    .dataframe thead th {\n",
       "        text-align: left;\n",
       "    }\n",
       "\n",
       "    .dataframe tbody tr th {\n",
       "        vertical-align: top;\n",
       "    }\n",
       "</style>\n",
       "<table border=\"1\" class=\"dataframe\">\n",
       "  <thead>\n",
       "    <tr style=\"text-align: right;\">\n",
       "      <th></th>\n",
       "      <th>placeID</th>\n",
       "      <th>name</th>\n",
       "      <th>address</th>\n",
       "      <th>city</th>\n",
       "      <th>state</th>\n",
       "      <th>country</th>\n",
       "      <th>latitude</th>\n",
       "      <th>longitude</th>\n",
       "      <th>the_geom_meter</th>\n",
       "      <th>fax</th>\n",
       "      <th>...</th>\n",
       "      <th>alcohol</th>\n",
       "      <th>smoking_area</th>\n",
       "      <th>dress_code</th>\n",
       "      <th>accessibility</th>\n",
       "      <th>price</th>\n",
       "      <th>url</th>\n",
       "      <th>Rambience</th>\n",
       "      <th>franchise</th>\n",
       "      <th>area</th>\n",
       "      <th>other_services</th>\n",
       "    </tr>\n",
       "  </thead>\n",
       "  <tbody>\n",
       "    <tr>\n",
       "      <th>9</th>\n",
       "      <td>135082.0</td>\n",
       "      <td>la Estrella de Dimas</td>\n",
       "      <td>Villa de Pozos 192 Villa de Pozos</td>\n",
       "      <td>San Luis Potosi</td>\n",
       "      <td>SLP</td>\n",
       "      <td>Mexico</td>\n",
       "      <td>22.151448</td>\n",
       "      <td>-100.915099</td>\n",
       "      <td>0101000020957F0000A29FAF95CD4958C1FEEEBB73A991...</td>\n",
       "      <td>?</td>\n",
       "      <td>...</td>\n",
       "      <td>No_Alcohol_Served</td>\n",
       "      <td>none</td>\n",
       "      <td>informal</td>\n",
       "      <td>no_accessibility</td>\n",
       "      <td>medium</td>\n",
       "      <td>?</td>\n",
       "      <td>familiar</td>\n",
       "      <td>f</td>\n",
       "      <td>closed</td>\n",
       "      <td>none</td>\n",
       "    </tr>\n",
       "    <tr>\n",
       "      <th>10</th>\n",
       "      <td>135070.0</td>\n",
       "      <td>Restaurante 75</td>\n",
       "      <td>Villa de Pozos 4497 Villa de Pozos</td>\n",
       "      <td>San Luis Potosi</td>\n",
       "      <td>SLP</td>\n",
       "      <td>Mexico</td>\n",
       "      <td>22.152918</td>\n",
       "      <td>-100.915164</td>\n",
       "      <td>0101000020957F0000ED435B84934958C1B3CF85FA9791...</td>\n",
       "      <td>?</td>\n",
       "      <td>...</td>\n",
       "      <td>No_Alcohol_Served</td>\n",
       "      <td>none</td>\n",
       "      <td>informal</td>\n",
       "      <td>no_accessibility</td>\n",
       "      <td>medium</td>\n",
       "      <td>?</td>\n",
       "      <td>familiar</td>\n",
       "      <td>f</td>\n",
       "      <td>closed</td>\n",
       "      <td>none</td>\n",
       "    </tr>\n",
       "    <tr>\n",
       "      <th>11</th>\n",
       "      <td>135069.0</td>\n",
       "      <td>Abondance Restaurante Bar</td>\n",
       "      <td>Industrias 908 Valle Dorado</td>\n",
       "      <td>San Luis Potosi</td>\n",
       "      <td>SLP</td>\n",
       "      <td>Mexico</td>\n",
       "      <td>22.140129</td>\n",
       "      <td>-100.944872</td>\n",
       "      <td>0101000020957F000038E5D546B74A58C18FD29AD0D29A...</td>\n",
       "      <td>?</td>\n",
       "      <td>...</td>\n",
       "      <td>Wine-Beer</td>\n",
       "      <td>none</td>\n",
       "      <td>informal</td>\n",
       "      <td>no_accessibility</td>\n",
       "      <td>low</td>\n",
       "      <td>?</td>\n",
       "      <td>familiar</td>\n",
       "      <td>f</td>\n",
       "      <td>closed</td>\n",
       "      <td>none</td>\n",
       "    </tr>\n",
       "    <tr>\n",
       "      <th>16</th>\n",
       "      <td>132854.0</td>\n",
       "      <td>Sirlone</td>\n",
       "      <td>carr. mexico</td>\n",
       "      <td>San Luis Potosi</td>\n",
       "      <td>San Luis Potosi</td>\n",
       "      <td>Mexico</td>\n",
       "      <td>22.137863</td>\n",
       "      <td>-100.938327</td>\n",
       "      <td>0101000020957F0000FEC3FB453E4B58C19B4A46361799...</td>\n",
       "      <td>?</td>\n",
       "      <td>...</td>\n",
       "      <td>Wine-Beer</td>\n",
       "      <td>none</td>\n",
       "      <td>informal</td>\n",
       "      <td>completely</td>\n",
       "      <td>medium</td>\n",
       "      <td>?</td>\n",
       "      <td>familiar</td>\n",
       "      <td>f</td>\n",
       "      <td>closed</td>\n",
       "      <td>none</td>\n",
       "    </tr>\n",
       "    <tr>\n",
       "      <th>23</th>\n",
       "      <td>132851.0</td>\n",
       "      <td>KFC</td>\n",
       "      <td>?</td>\n",
       "      <td>San Luis Potosi</td>\n",
       "      <td>San Luis Potosi</td>\n",
       "      <td>Mexico</td>\n",
       "      <td>22.136872</td>\n",
       "      <td>-100.934574</td>\n",
       "      <td>0101000020957F0000C74DE39C7F4B58C1061F29171498...</td>\n",
       "      <td>?</td>\n",
       "      <td>...</td>\n",
       "      <td>No_Alcohol_Served</td>\n",
       "      <td>not permitted</td>\n",
       "      <td>informal</td>\n",
       "      <td>completely</td>\n",
       "      <td>low</td>\n",
       "      <td>?</td>\n",
       "      <td>familiar</td>\n",
       "      <td>f</td>\n",
       "      <td>closed</td>\n",
       "      <td>none</td>\n",
       "    </tr>\n",
       "    <tr>\n",
       "      <th>30</th>\n",
       "      <td>135054.0</td>\n",
       "      <td>Restaurante y Pescaderia Tampico</td>\n",
       "      <td>Ricardo B. Anaya 2700 Estrella de Oriente</td>\n",
       "      <td>San Luis Potosi</td>\n",
       "      <td>SLP</td>\n",
       "      <td>Mexico</td>\n",
       "      <td>22.140626</td>\n",
       "      <td>-100.915657</td>\n",
       "      <td>0101000020957F000011E92CCE714B58C19BF8C0CA7592...</td>\n",
       "      <td>?</td>\n",
       "      <td>...</td>\n",
       "      <td>No_Alcohol_Served</td>\n",
       "      <td>none</td>\n",
       "      <td>informal</td>\n",
       "      <td>no_accessibility</td>\n",
       "      <td>high</td>\n",
       "      <td>?</td>\n",
       "      <td>familiar</td>\n",
       "      <td>f</td>\n",
       "      <td>closed</td>\n",
       "      <td>none</td>\n",
       "    </tr>\n",
       "    <tr>\n",
       "      <th>33</th>\n",
       "      <td>135050.0</td>\n",
       "      <td>Restaurante la Estrella de Dima</td>\n",
       "      <td>Soledad Sn Arboledas de Soledad</td>\n",
       "      <td>Soledad</td>\n",
       "      <td>SLP</td>\n",
       "      <td>Mexico</td>\n",
       "      <td>22.174887</td>\n",
       "      <td>-100.970825</td>\n",
       "      <td>0101000020957F0000FD78FFF7AD4458C1896A33F029A0...</td>\n",
       "      <td>?</td>\n",
       "      <td>...</td>\n",
       "      <td>Wine-Beer</td>\n",
       "      <td>none</td>\n",
       "      <td>informal</td>\n",
       "      <td>no_accessibility</td>\n",
       "      <td>high</td>\n",
       "      <td>?</td>\n",
       "      <td>familiar</td>\n",
       "      <td>f</td>\n",
       "      <td>closed</td>\n",
       "      <td>none</td>\n",
       "    </tr>\n",
       "    <tr>\n",
       "      <th>36</th>\n",
       "      <td>135057.0</td>\n",
       "      <td>El Herradero Restaurante and Bar</td>\n",
       "      <td>Costado Sur Central Camionera Km 2</td>\n",
       "      <td>San Luis Potosi</td>\n",
       "      <td>SLP</td>\n",
       "      <td>Mexico</td>\n",
       "      <td>22.145992</td>\n",
       "      <td>-100.955118</td>\n",
       "      <td>0101000020957F000095669021894958C182C9C10E669D...</td>\n",
       "      <td>?</td>\n",
       "      <td>...</td>\n",
       "      <td>Wine-Beer</td>\n",
       "      <td>section</td>\n",
       "      <td>informal</td>\n",
       "      <td>no_accessibility</td>\n",
       "      <td>medium</td>\n",
       "      <td>?</td>\n",
       "      <td>familiar</td>\n",
       "      <td>f</td>\n",
       "      <td>closed</td>\n",
       "      <td>none</td>\n",
       "    </tr>\n",
       "    <tr>\n",
       "      <th>44</th>\n",
       "      <td>132869.0</td>\n",
       "      <td>Dominos Pizza</td>\n",
       "      <td>Ricardo B. Anaya</td>\n",
       "      <td>San Luis Potosi</td>\n",
       "      <td>San Luis Potosi</td>\n",
       "      <td>Mexico</td>\n",
       "      <td>22.141238</td>\n",
       "      <td>-100.923925</td>\n",
       "      <td>0101000020957F0000BC62C18D1F4B58C169E0A959C894...</td>\n",
       "      <td>?</td>\n",
       "      <td>...</td>\n",
       "      <td>No_Alcohol_Served</td>\n",
       "      <td>not permitted</td>\n",
       "      <td>informal</td>\n",
       "      <td>no_accessibility</td>\n",
       "      <td>medium</td>\n",
       "      <td>?</td>\n",
       "      <td>familiar</td>\n",
       "      <td>f</td>\n",
       "      <td>closed</td>\n",
       "      <td>none</td>\n",
       "    </tr>\n",
       "    <tr>\n",
       "      <th>56</th>\n",
       "      <td>135108.0</td>\n",
       "      <td>Potzocalli</td>\n",
       "      <td>Carretera Central Sn</td>\n",
       "      <td>San Luis Potosi</td>\n",
       "      <td>?</td>\n",
       "      <td>?</td>\n",
       "      <td>22.136253</td>\n",
       "      <td>-100.933585</td>\n",
       "      <td>0101000020957F00008FAE40D59E4B58C112C66046D597...</td>\n",
       "      <td>?</td>\n",
       "      <td>...</td>\n",
       "      <td>No_Alcohol_Served</td>\n",
       "      <td>none</td>\n",
       "      <td>informal</td>\n",
       "      <td>completely</td>\n",
       "      <td>low</td>\n",
       "      <td>?</td>\n",
       "      <td>familiar</td>\n",
       "      <td>f</td>\n",
       "      <td>closed</td>\n",
       "      <td>none</td>\n",
       "    </tr>\n",
       "    <tr>\n",
       "      <th>61</th>\n",
       "      <td>135081.0</td>\n",
       "      <td>El Club</td>\n",
       "      <td>Mexico 810 Centro</td>\n",
       "      <td>San Luis Potosi</td>\n",
       "      <td>SLP</td>\n",
       "      <td>Mexico</td>\n",
       "      <td>22.164842</td>\n",
       "      <td>-100.960493</td>\n",
       "      <td>0101000020957F00006ADAD289804658C168CABB6BD09D...</td>\n",
       "      <td>?</td>\n",
       "      <td>...</td>\n",
       "      <td>No_Alcohol_Served</td>\n",
       "      <td>none</td>\n",
       "      <td>informal</td>\n",
       "      <td>no_accessibility</td>\n",
       "      <td>medium</td>\n",
       "      <td>?</td>\n",
       "      <td>familiar</td>\n",
       "      <td>f</td>\n",
       "      <td>closed</td>\n",
       "      <td>none</td>\n",
       "    </tr>\n",
       "    <tr>\n",
       "      <th>68</th>\n",
       "      <td>132858.0</td>\n",
       "      <td>Hamburguesas Valle Dorado</td>\n",
       "      <td>Av. Coral</td>\n",
       "      <td>San Luis Potosi</td>\n",
       "      <td>San Luis Potosi</td>\n",
       "      <td>Mexico</td>\n",
       "      <td>22.131292</td>\n",
       "      <td>-100.937194</td>\n",
       "      <td>0101000020957F0000608CF6D8474C58C1DBF7C5002899...</td>\n",
       "      <td>?</td>\n",
       "      <td>...</td>\n",
       "      <td>No_Alcohol_Served</td>\n",
       "      <td>none</td>\n",
       "      <td>informal</td>\n",
       "      <td>completely</td>\n",
       "      <td>low</td>\n",
       "      <td>?</td>\n",
       "      <td>familiar</td>\n",
       "      <td>f</td>\n",
       "      <td>closed</td>\n",
       "      <td>none</td>\n",
       "    </tr>\n",
       "    <tr>\n",
       "      <th>79</th>\n",
       "      <td>135071.0</td>\n",
       "      <td>Restaurante la Cantina</td>\n",
       "      <td>De La Estrella 2005 Estrella de Oriente</td>\n",
       "      <td>San Luis Potosi</td>\n",
       "      <td>SLP</td>\n",
       "      <td>Mexico</td>\n",
       "      <td>22.126375</td>\n",
       "      <td>-100.910926</td>\n",
       "      <td>0101000020957F0000E3A742BFC14D58C1F4E529A7F391...</td>\n",
       "      <td>?</td>\n",
       "      <td>...</td>\n",
       "      <td>Full_Bar</td>\n",
       "      <td>section</td>\n",
       "      <td>informal</td>\n",
       "      <td>no_accessibility</td>\n",
       "      <td>medium</td>\n",
       "      <td>?</td>\n",
       "      <td>familiar</td>\n",
       "      <td>f</td>\n",
       "      <td>closed</td>\n",
       "      <td>none</td>\n",
       "    </tr>\n",
       "    <tr>\n",
       "      <th>81</th>\n",
       "      <td>132846.0</td>\n",
       "      <td>el lechon potosino</td>\n",
       "      <td>circuito oriente esq. carretera 57</td>\n",
       "      <td>san luis potosi</td>\n",
       "      <td>slp</td>\n",
       "      <td>mexico</td>\n",
       "      <td>22.142273</td>\n",
       "      <td>-100.942654</td>\n",
       "      <td>0101000020957F000065D51EE7724A58C1B688A454109A...</td>\n",
       "      <td>?</td>\n",
       "      <td>...</td>\n",
       "      <td>No_Alcohol_Served</td>\n",
       "      <td>permitted</td>\n",
       "      <td>casual</td>\n",
       "      <td>no_accessibility</td>\n",
       "      <td>low</td>\n",
       "      <td>?</td>\n",
       "      <td>familiar</td>\n",
       "      <td>f</td>\n",
       "      <td>open</td>\n",
       "      <td>none</td>\n",
       "    </tr>\n",
       "    <tr>\n",
       "      <th>87</th>\n",
       "      <td>132830.0</td>\n",
       "      <td>Rincon Huasteco</td>\n",
       "      <td>?</td>\n",
       "      <td>?</td>\n",
       "      <td>?</td>\n",
       "      <td>?</td>\n",
       "      <td>22.150849</td>\n",
       "      <td>-100.939752</td>\n",
       "      <td>0101000020957F0000F2E21C48374958C1C6826887BA98...</td>\n",
       "      <td>?</td>\n",
       "      <td>...</td>\n",
       "      <td>No_Alcohol_Served</td>\n",
       "      <td>none</td>\n",
       "      <td>informal</td>\n",
       "      <td>completely</td>\n",
       "      <td>low</td>\n",
       "      <td>?</td>\n",
       "      <td>familiar</td>\n",
       "      <td>f</td>\n",
       "      <td>closed</td>\n",
       "      <td>none</td>\n",
       "    </tr>\n",
       "    <tr>\n",
       "      <th>99</th>\n",
       "      <td>135039.0</td>\n",
       "      <td>Restaurant de Mariscos de Picon</td>\n",
       "      <td>Miguel Barragan 46 Centro</td>\n",
       "      <td>San Luis Potosi</td>\n",
       "      <td>SLP</td>\n",
       "      <td>Mexico</td>\n",
       "      <td>22.145893</td>\n",
       "      <td>-100.974870</td>\n",
       "      <td>0101000020957F000040D5CE4E014958C177DC62AE09A3...</td>\n",
       "      <td>?</td>\n",
       "      <td>...</td>\n",
       "      <td>No_Alcohol_Served</td>\n",
       "      <td>section</td>\n",
       "      <td>informal</td>\n",
       "      <td>no_accessibility</td>\n",
       "      <td>low</td>\n",
       "      <td>?</td>\n",
       "      <td>familiar</td>\n",
       "      <td>f</td>\n",
       "      <td>closed</td>\n",
       "      <td>none</td>\n",
       "    </tr>\n",
       "    <tr>\n",
       "      <th>119</th>\n",
       "      <td>135032.0</td>\n",
       "      <td>Cafeteria y Restaurant El Pacifico</td>\n",
       "      <td>Constitucion 200 Centro</td>\n",
       "      <td>San Luis Potosi</td>\n",
       "      <td>SLP</td>\n",
       "      <td>Mexico</td>\n",
       "      <td>22.152481</td>\n",
       "      <td>-100.973486</td>\n",
       "      <td>0101000020957F000017D69FF5084858C1A8F2188740A2...</td>\n",
       "      <td>?</td>\n",
       "      <td>...</td>\n",
       "      <td>Wine-Beer</td>\n",
       "      <td>section</td>\n",
       "      <td>informal</td>\n",
       "      <td>no_accessibility</td>\n",
       "      <td>medium</td>\n",
       "      <td>?</td>\n",
       "      <td>familiar</td>\n",
       "      <td>f</td>\n",
       "      <td>closed</td>\n",
       "      <td>none</td>\n",
       "    </tr>\n",
       "    <tr>\n",
       "      <th>125</th>\n",
       "      <td>132866.0</td>\n",
       "      <td>Chaires</td>\n",
       "      <td>Ricardo B. Anaya</td>\n",
       "      <td>San Luis Potosi</td>\n",
       "      <td>San Luis Potosi</td>\n",
       "      <td>Mexico</td>\n",
       "      <td>22.141220</td>\n",
       "      <td>-100.931311</td>\n",
       "      <td>0101000020957F000013871838EC4A58C1B5DF74F8E396...</td>\n",
       "      <td>?</td>\n",
       "      <td>...</td>\n",
       "      <td>No_Alcohol_Served</td>\n",
       "      <td>not permitted</td>\n",
       "      <td>informal</td>\n",
       "      <td>completely</td>\n",
       "      <td>medium</td>\n",
       "      <td>?</td>\n",
       "      <td>familiar</td>\n",
       "      <td>f</td>\n",
       "      <td>closed</td>\n",
       "      <td>none</td>\n",
       "    </tr>\n",
       "  </tbody>\n",
       "</table>\n",
       "<p>18 rows × 21 columns</p>\n",
       "</div>"
      ],
      "text/plain": [
       "      placeID                                name  \\\n",
       "9    135082.0                la Estrella de Dimas   \n",
       "10   135070.0                      Restaurante 75   \n",
       "11   135069.0           Abondance Restaurante Bar   \n",
       "16   132854.0                             Sirlone   \n",
       "23   132851.0                                 KFC   \n",
       "30   135054.0    Restaurante y Pescaderia Tampico   \n",
       "33   135050.0     Restaurante la Estrella de Dima   \n",
       "36   135057.0    El Herradero Restaurante and Bar   \n",
       "44   132869.0                       Dominos Pizza   \n",
       "56   135108.0                          Potzocalli   \n",
       "61   135081.0                             El Club   \n",
       "68   132858.0           Hamburguesas Valle Dorado   \n",
       "79   135071.0              Restaurante la Cantina   \n",
       "81   132846.0                 el lechon potosino    \n",
       "87   132830.0                     Rincon Huasteco   \n",
       "99   135039.0     Restaurant de Mariscos de Picon   \n",
       "119  135032.0  Cafeteria y Restaurant El Pacifico   \n",
       "125  132866.0                             Chaires   \n",
       "\n",
       "                                       address              city  \\\n",
       "9            Villa de Pozos 192 Villa de Pozos   San Luis Potosi   \n",
       "10          Villa de Pozos 4497 Villa de Pozos   San Luis Potosi   \n",
       "11                 Industrias 908 Valle Dorado   San Luis Potosi   \n",
       "16                                carr. mexico   San Luis Potosi   \n",
       "23                                           ?   San Luis Potosi   \n",
       "30   Ricardo B. Anaya 2700 Estrella de Oriente   San Luis Potosi   \n",
       "33             Soledad Sn Arboledas de Soledad           Soledad   \n",
       "36          Costado Sur Central Camionera Km 2   San Luis Potosi   \n",
       "44                            Ricardo B. Anaya   San Luis Potosi   \n",
       "56                        Carretera Central Sn   San Luis Potosi   \n",
       "61                           Mexico 810 Centro   San Luis Potosi   \n",
       "68                                   Av. Coral   San Luis Potosi   \n",
       "79     De La Estrella 2005 Estrella de Oriente   San Luis Potosi   \n",
       "81          circuito oriente esq. carretera 57  san luis potosi    \n",
       "87                                           ?                 ?   \n",
       "99                   Miguel Barragan 46 Centro   San Luis Potosi   \n",
       "119                    Constitucion 200 Centro   San Luis Potosi   \n",
       "125                           Ricardo B. Anaya   San Luis Potosi   \n",
       "\n",
       "               state country   latitude   longitude  \\\n",
       "9                SLP  Mexico  22.151448 -100.915099   \n",
       "10               SLP  Mexico  22.152918 -100.915164   \n",
       "11               SLP  Mexico  22.140129 -100.944872   \n",
       "16   San Luis Potosi  Mexico  22.137863 -100.938327   \n",
       "23   San Luis Potosi  Mexico  22.136872 -100.934574   \n",
       "30               SLP  Mexico  22.140626 -100.915657   \n",
       "33               SLP  Mexico  22.174887 -100.970825   \n",
       "36               SLP  Mexico  22.145992 -100.955118   \n",
       "44   San Luis Potosi  Mexico  22.141238 -100.923925   \n",
       "56                 ?       ?  22.136253 -100.933585   \n",
       "61               SLP  Mexico  22.164842 -100.960493   \n",
       "68   San Luis Potosi  Mexico  22.131292 -100.937194   \n",
       "79               SLP  Mexico  22.126375 -100.910926   \n",
       "81               slp  mexico  22.142273 -100.942654   \n",
       "87                 ?       ?  22.150849 -100.939752   \n",
       "99               SLP  Mexico  22.145893 -100.974870   \n",
       "119              SLP  Mexico  22.152481 -100.973486   \n",
       "125  San Luis Potosi  Mexico  22.141220 -100.931311   \n",
       "\n",
       "                                        the_geom_meter fax      ...        \\\n",
       "9    0101000020957F0000A29FAF95CD4958C1FEEEBB73A991...   ?      ...         \n",
       "10   0101000020957F0000ED435B84934958C1B3CF85FA9791...   ?      ...         \n",
       "11   0101000020957F000038E5D546B74A58C18FD29AD0D29A...   ?      ...         \n",
       "16   0101000020957F0000FEC3FB453E4B58C19B4A46361799...   ?      ...         \n",
       "23   0101000020957F0000C74DE39C7F4B58C1061F29171498...   ?      ...         \n",
       "30   0101000020957F000011E92CCE714B58C19BF8C0CA7592...   ?      ...         \n",
       "33   0101000020957F0000FD78FFF7AD4458C1896A33F029A0...   ?      ...         \n",
       "36   0101000020957F000095669021894958C182C9C10E669D...   ?      ...         \n",
       "44   0101000020957F0000BC62C18D1F4B58C169E0A959C894...   ?      ...         \n",
       "56   0101000020957F00008FAE40D59E4B58C112C66046D597...   ?      ...         \n",
       "61   0101000020957F00006ADAD289804658C168CABB6BD09D...   ?      ...         \n",
       "68   0101000020957F0000608CF6D8474C58C1DBF7C5002899...   ?      ...         \n",
       "79   0101000020957F0000E3A742BFC14D58C1F4E529A7F391...   ?      ...         \n",
       "81   0101000020957F000065D51EE7724A58C1B688A454109A...   ?      ...         \n",
       "87   0101000020957F0000F2E21C48374958C1C6826887BA98...   ?      ...         \n",
       "99   0101000020957F000040D5CE4E014958C177DC62AE09A3...   ?      ...         \n",
       "119  0101000020957F000017D69FF5084858C1A8F2188740A2...   ?      ...         \n",
       "125  0101000020957F000013871838EC4A58C1B5DF74F8E396...   ?      ...         \n",
       "\n",
       "               alcohol   smoking_area dress_code     accessibility   price  \\\n",
       "9    No_Alcohol_Served           none   informal  no_accessibility  medium   \n",
       "10   No_Alcohol_Served           none   informal  no_accessibility  medium   \n",
       "11           Wine-Beer           none   informal  no_accessibility     low   \n",
       "16           Wine-Beer           none   informal        completely  medium   \n",
       "23   No_Alcohol_Served  not permitted   informal        completely     low   \n",
       "30   No_Alcohol_Served           none   informal  no_accessibility    high   \n",
       "33           Wine-Beer           none   informal  no_accessibility    high   \n",
       "36           Wine-Beer        section   informal  no_accessibility  medium   \n",
       "44   No_Alcohol_Served  not permitted   informal  no_accessibility  medium   \n",
       "56   No_Alcohol_Served           none   informal        completely     low   \n",
       "61   No_Alcohol_Served           none   informal  no_accessibility  medium   \n",
       "68   No_Alcohol_Served           none   informal        completely     low   \n",
       "79            Full_Bar        section   informal  no_accessibility  medium   \n",
       "81   No_Alcohol_Served      permitted     casual  no_accessibility     low   \n",
       "87   No_Alcohol_Served           none   informal        completely     low   \n",
       "99   No_Alcohol_Served        section   informal  no_accessibility     low   \n",
       "119          Wine-Beer        section   informal  no_accessibility  medium   \n",
       "125  No_Alcohol_Served  not permitted   informal        completely  medium   \n",
       "\n",
       "    url Rambience franchise    area other_services  \n",
       "9     ?  familiar         f  closed           none  \n",
       "10    ?  familiar         f  closed           none  \n",
       "11    ?  familiar         f  closed           none  \n",
       "16    ?  familiar         f  closed           none  \n",
       "23    ?  familiar         f  closed           none  \n",
       "30    ?  familiar         f  closed           none  \n",
       "33    ?  familiar         f  closed           none  \n",
       "36    ?  familiar         f  closed           none  \n",
       "44    ?  familiar         f  closed           none  \n",
       "56    ?  familiar         f  closed           none  \n",
       "61    ?  familiar         f  closed           none  \n",
       "68    ?  familiar         f  closed           none  \n",
       "79    ?  familiar         f  closed           none  \n",
       "81    ?  familiar         f    open           none  \n",
       "87    ?  familiar         f  closed           none  \n",
       "99    ?  familiar         f  closed           none  \n",
       "119   ?  familiar         f  closed           none  \n",
       "125   ?  familiar         f  closed           none  \n",
       "\n",
       "[18 rows x 21 columns]"
      ]
     },
     "execution_count": 198,
     "metadata": {},
     "output_type": "execute_result"
    }
   ],
   "source": [
    "result"
   ]
  },
  {
   "cell_type": "code",
   "execution_count": null,
   "metadata": {
    "collapsed": true
   },
   "outputs": [],
   "source": []
  }
 ],
 "metadata": {
  "kernelspec": {
   "display_name": "Python 3",
   "language": "python",
   "name": "python3"
  },
  "language_info": {
   "codemirror_mode": {
    "name": "ipython",
    "version": 3
   },
   "file_extension": ".py",
   "mimetype": "text/x-python",
   "name": "python",
   "nbconvert_exporter": "python",
   "pygments_lexer": "ipython3",
   "version": "3.6.3"
  }
 },
 "nbformat": 4,
 "nbformat_minor": 2
}
